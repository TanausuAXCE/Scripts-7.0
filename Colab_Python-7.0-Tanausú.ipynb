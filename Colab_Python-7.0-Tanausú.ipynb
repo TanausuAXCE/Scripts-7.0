{
  "nbformat": 4,
  "nbformat_minor": 0,
  "metadata": {
    "colab": {
      "provenance": []
    },
    "kernelspec": {
      "name": "python3",
      "display_name": "Python 3"
    },
    "language_info": {
      "name": "python"
    }
  },
  "cells": [
    {
      "cell_type": "markdown",
      "source": [
        "\n",
        "\n",
        "1.   Dos motos viajan a diferentes velocidades (**vel1** y **vel2**) y están distanciados por una distancia **dis**. La moto que se encuentra detrás lleva una velocidad mayor que la primera. Se pide realizar un script en python que solicite al usuario la distancia entre las motos en km y las velocidades de las mismas y con ello devolver en cuanto tiempo la moto 2 alcanzará a la moto 1."
      ],
      "metadata": {
        "id": "yU4DEf3HBMru"
      }
    },
    {
      "cell_type": "code",
      "source": [
        "#declaración de variables\n",
        "vel1 = float(input(\"Introduce la velocidad de la moto uno: \"))\n",
        "vel2 = float(input(\"Introduce la velocidad de la moto dos: \"))\n",
        "d = float(input(\"Introduce la distancia entre la moto 1 y la moto dos(KM): \"))\n",
        "\n",
        "#Condicional que se asegura de que la moto 2 siempre sea más rápida\n",
        "if vel2<=vel1:\n",
        "  print(\"La moto2 siempre ha de ir más rápido que la moto uno, intorduce otra velocidad\")\n",
        "else:\n",
        "  tiempo = int(d / (vel2-vel1))\n",
        "  print(f\"La moto 1 ha sido alcanzada en {tiempo} horas\")"
      ],
      "metadata": {
        "id": "nLCVu66ZDnpq",
        "colab": {
          "base_uri": "https://localhost:8080/"
        },
        "outputId": "14c734c0-5bca-4a2b-c513-1b46c06514e6"
      },
      "execution_count": null,
      "outputs": [
        {
          "output_type": "stream",
          "name": "stdout",
          "text": [
            "Introduce la velocidad de la moto uno: 50\n",
            "Introduce la velocidad de la moto dos: 60\n",
            "Introduce la distancia entre la moto 1 y la moto dos(KM): 43\n",
            "La moto 1 ha sido alcanzada en 4 horas\n"
          ]
        }
      ]
    },
    {
      "cell_type": "code",
      "source": [
        "\n"
      ],
      "metadata": {
        "id": "cG3PaPs3EPfy"
      },
      "execution_count": null,
      "outputs": []
    },
    {
      "cell_type": "markdown",
      "source": [
        "2. El tutor de 2º ASIR esta organizando un viaje a Granada, y requiere determinar cuánto debe cobrar a cada alumne y cuánto debe pagar a la agencia de viajes. La forma de cobrar es la siguiente: si son 100 alumnos o más, el costo por cada alumno es de 65 euros; de 50 a 99 alumnos, el costo es de 70 euros, de 30 a 49, de 95 euros, y si son menos de 30, el costo de la guagua es de 4000 euros, sin importar el número de alumnos. Realice un script que permita determinar el pago a la compañía de guaguas y lo que debe pagar cada alumno por el viaje."
      ],
      "metadata": {
        "id": "bTX1b7swDmVd"
      }
    },
    {
      "cell_type": "code",
      "source": [
        "num_alumnos = int(input(\"Introduce el número de alumnos: \"))\n",
        "\n",
        "if num_alumnos >= 100:\n",
        "  costo_alumno = 65\n",
        "  costo_total = num_alumnos * costo_alumno\n",
        "elif num_alumnos >= 50:\n",
        "  costo_alumno = 70\n",
        "  costo_total = num_alumnos * costo_alumno\n",
        "elif num_alumnos >= 30:\n",
        "  costo_alumno = 95\n",
        "  costo_total = num_alumnos * costo_alumno\n",
        "else:\n",
        "  costo_alumno = 0  # Costo por alumno es 0 si son menos de 30\n",
        "  costo_total = 4000\n",
        "\n",
        "print(f\"Costo total del viaje: {costo_total} euros\")\n",
        "if costo_alumno > 0 :\n",
        "    print(f\"Costo por alumno: {costo_alumno} euros\")\n",
        "else:\n",
        "    print(\"El costo por alumno no aplica, el costo es fijo.\")\n"
      ],
      "metadata": {
        "id": "1_orCltzEQhh"
      },
      "execution_count": null,
      "outputs": []
    },
    {
      "cell_type": "markdown",
      "source": [
        "3. Crea un script que permita adivinar un número. La aplicación genera un número aleatorio del 1 al 100. A continuación va pidiendo números y va respondiendo si el número a adivinar es mayor o menor que el introducido, además de los intentos que te quedan (tienes 10 intentos para acertarlo).  El programa termina cuando se acierta el número (además te dice en cuantos  intentos lo has acertado), si se llega al limite de intentos te muestra el  número que había generado."
      ],
      "metadata": {
        "id": "ksUYFjvcFhpq"
      }
    },
    {
      "cell_type": "code",
      "source": [
        "import random\n",
        "\n",
        "numsec = random.randint(1, 100)\n",
        "intentos_restantes = 10\n",
        "intentos_realizados = 0\n",
        "\n",
        "while intentos_restantes > 0:\n",
        "\n",
        "        intento = int(input(f\"Introduce un número (Intentos restantes: {intentos_restantes}): \"))\n",
        "\n",
        "\n",
        "        intentos_realizados += 1\n",
        "        intentos_restantes -= 1\n",
        "\n",
        "        if intento < numsec:\n",
        "            print(\"El número secreto es mayor.\")\n",
        "        elif intento > numsec:\n",
        "            print(\"El número secreto es menor.\")\n",
        "        else:\n",
        "            print(f\"¡Felicidades! Has adivinado el número en {intentos_realizados} intentos.\")\n",
        "\n",
        "\n",
        "print(f\"Lo siento, has agotado tus intentos. El número secreto era {numsec}.\")\n",
        "\n"
      ],
      "metadata": {
        "id": "9xpKRlbnv16K"
      },
      "execution_count": null,
      "outputs": []
    },
    {
      "cell_type": "markdown",
      "source": [
        "4. Realizar un script que pida una String por teclado que contenga espacios y devuelva el número de palabrás que contenga"
      ],
      "metadata": {
        "id": "a8VUj4CxH5Lh"
      }
    },
    {
      "cell_type": "code",
      "source": [
        "frase=str(input(\"Introuce una frase: \"))\n",
        "cont=int(0)\n",
        "\n",
        "palabra=frase.split()\n",
        "#Bucle para saber el número de palabras\n",
        "for i in palabra:\n",
        "  cont+=1\n",
        "if cont == 1:\n",
        "  print(\"Solo ha introducido una palabra.\")\n",
        "else:\n",
        "  print(cont)"
      ],
      "metadata": {
        "id": "XjlclapwESaJ",
        "colab": {
          "base_uri": "https://localhost:8080/"
        },
        "outputId": "7314cb37-bed2-4ddf-c8b9-9c191b8ab3e1"
      },
      "execution_count": null,
      "outputs": [
        {
          "output_type": "stream",
          "name": "stdout",
          "text": [
            "Introuce una frase: hola\n",
            "Solo ha introducido una palabra.\n"
          ]
        }
      ]
    },
    {
      "cell_type": "markdown",
      "source": [
        "5. Realiza un script que se le pasen 5 notas de un alumno por teclado (comprendidas entre 0 y 10). A continuación debe mostrar todas las notas, la nota media, la nota más alta que ha sacado y la menor.\n",
        "\n"
      ],
      "metadata": {
        "id": "hyvKdc75IXd5"
      }
    },
    {
      "cell_type": "code",
      "source": [
        "notas = []\n",
        "for i in range(5):\n",
        "        while True:\n",
        "            try:\n",
        "                nota = float(input(f\"Introduce la nota {i+1} (entre 0 y 10): \"))\n",
        "                if 0 <= nota <= 10:\n",
        "                    notas.append(nota)\n",
        "                    break\n",
        "                else:\n",
        "                    print(\"Nota inválida. Introduce un valor entre 0 y 10.\")\n",
        "            except ValueError:\n",
        "                print(\"Entrada inválida. Introduce un número.\")\n",
        "\n",
        "print(\"\\nNotas introducidas:\", notas)\n",
        "nota_media = sum(notas) / len(notas)\n",
        "print(\"Nota media:\", nota_media)\n",
        "nota_maxima = max(notas)\n",
        "print(\"Nota más alta:\", nota_maxima)\n",
        "nota_minima = min(notas)\n",
        "print(\"Nota más baja:\", nota_minima)\n",
        "\n"
      ],
      "metadata": {
        "id": "5bjuh9towEEI"
      },
      "execution_count": null,
      "outputs": []
    },
    {
      "cell_type": "markdown",
      "source": [
        "6. Realizar un script que cree una una tabla bidimensional de 5x5 y nombre 'diagonal'. La Componentes de han de empezar por 1 incrementandola hata estar llena la matirz. Se ha de mostrar el contenido de la tabla por pantalla."
      ],
      "metadata": {
        "id": "ZQxqS603I8S1"
      }
    },
    {
      "cell_type": "code",
      "source": [
        "# Crear una tabla 5x5 con 0s\n",
        "diagonal = [[0 for _ in range(5)] for _ in range(5)]\n",
        "    # Asignar 1 a las diagonales\n",
        "for i in range(5):\n",
        "      diagonal[i][i] = 1  # Diagonal principal\n",
        "      diagonal[i][4 - i] = 1  # Diagonal secundaria\n",
        "    # Mostrar la tabla\n",
        "for fila in diagonal:\n",
        "      print(\" \".join(map(str, fila)))"
      ],
      "metadata": {
        "id": "b1tXQaS0ETrp",
        "colab": {
          "base_uri": "https://localhost:8080/"
        },
        "outputId": "7411102b-e7ed-405c-8003-24bc151fd7c5"
      },
      "execution_count": 6,
      "outputs": [
        {
          "output_type": "stream",
          "name": "stdout",
          "text": [
            "1 0 0 0 1\n",
            "0 1 0 1 0\n",
            "0 0 1 0 0\n",
            "0 1 0 1 0\n",
            "1 0 0 0 1\n"
          ]
        }
      ]
    },
    {
      "cell_type": "markdown",
      "source": [
        "7. Crea un script que pida un número y cree un diccionario cuyas claves sean desde el número 1 hasta el número indicado, y los valores sean los cuadrados de las claves.\n",
        "\n"
      ],
      "metadata": {
        "id": "Ah0c0PB1Nw_d"
      }
    },
    {
      "cell_type": "code",
      "source": [
        "import math\n",
        "num=int(input(\"Inserta un número: \"))\n",
        "dict1 = { }\n",
        "#Bucle que rellenará el diccionario\n",
        "for i in range(1,num + 1):\n",
        "  dict1[i] = [i ** 2]\n",
        "\n",
        "print(dict1)"
      ],
      "metadata": {
        "id": "OWcoMYqYEUez",
        "colab": {
          "base_uri": "https://localhost:8080/"
        },
        "outputId": "1189650d-ad96-44fb-d51f-6039ab6a46b6"
      },
      "execution_count": null,
      "outputs": [
        {
          "output_type": "stream",
          "name": "stdout",
          "text": [
            "Inserta un número: 10\n",
            "{1: [1], 2: [4], 3: [9], 4: [16], 5: [25], 6: [36], 7: [49], 8: [64], 9: [81]}\n"
          ]
        }
      ]
    },
    {
      "cell_type": "markdown",
      "source": [
        "8. Crea un script de una agenda en la que se guardan nombres y números de teléfono. En la agenda existirá un menú con las siguientes opciones:\n",
        " * **Añadir/modificar**: Nos pide un nombre. Si el nombre se encuentra en la agenda, debe mostrar el teléfono y, opcionalmente, permitir modificarlo si no es correcto. Si el nombre no se encuentra, debe permitir ingresar el teléfono correspondiente.\n",
        " * **Buscar**: Nos pide una cadena de caracteres, y nos muestras todos los contactos cuyos nombres comiencen por dicha cadena.\n",
        " * **Borrar**: Nos pide un nombre y si existe nos preguntará si queremos borrarlo de la agenda.\n",
        " * **Listar**: Nos muestra todos los contactos de la agenda.\n",
        "\n",
        "  Implementar el script con un diccionario."
      ],
      "metadata": {
        "id": "6vqpqY3DJ88o"
      }
    },
    {
      "cell_type": "code",
      "source": [
        "\n",
        "agenda = {}\n",
        "opcion = 0\n",
        "#bucle del menú\n",
        "while opcion != 5:\n",
        "    print(\"\\n\")\n",
        "    print(\"1. Añadir/modificar\")\n",
        "    print(\"2. Buscar\")\n",
        "    print(\"3. Borrar\")\n",
        "    print(\"4. Listar\")\n",
        "    print(\"5. Salir\")\n",
        "\n",
        "    opcion = int(input(\"Dime opción:\"))\n",
        "    match opcion:\n",
        "      case 1:\n",
        "        #caso de añadir nombres\n",
        "        nombre = input(\"Nombre del contacto:\")\n",
        "        if nombre in agenda:\n",
        "            print(\"%s ya existe su número de teléfono es %s\" % (nombre,agenda[nombre]))\n",
        "            opcion = input(\"Pulsa 's' si quieres modificarlo!!!. Otra tecla para continuar.\")\n",
        "            if opcion == \"s\":\n",
        "                numero = input(\"Dame el nuevo número de teléfono:\")\n",
        "                agenda[nombre]=numero\n",
        "        else:\n",
        "            numero = input(\"Dame el número de teléfono:\")\n",
        "            agenda[nombre]=numero\n",
        "      case 2:\n",
        "        #caso de buscar nombres\n",
        "        cadena = input(\"Nombre del contacto a buscar:\")\n",
        "        for nombre, numero in agenda.items():\n",
        "            if nombre.startswith(cadena):\n",
        "                print(\"El número de teléfono de %s es el %s\" % (nombre,agenda[nombre]))\n",
        "      case 3:\n",
        "        #caso para borrar nombres\n",
        "        nombre = input(\"Nombre del contacto para borrar:\")\n",
        "        if nombre in agenda:\n",
        "            opcion = input(\"Pulsa 's' si quieres borrarlo!!!. Otra tecla para continuar.\")\n",
        "            if opcion == \"s\":\n",
        "                del agenda[nombre]\n",
        "        else:\n",
        "            print(\"No existe el contacto\")\n",
        "      case 4:\n",
        "        #caso para listar los nombres\n",
        "        for nombre, numero in agenda.items():\n",
        "            print(nombre,\"->\",numero)\n",
        "      case 5:\n",
        "        #salida\n",
        "        print(\"\\n Adiós.\")\n",
        "      case _:\n",
        "        print(\"Opción incorrecta\")\n"
      ],
      "metadata": {
        "id": "GexEhTmSEVT4",
        "colab": {
          "base_uri": "https://localhost:8080/"
        },
        "outputId": "988e4a21-2c47-4465-bdb1-a558f73ea0f2"
      },
      "execution_count": null,
      "outputs": [
        {
          "output_type": "stream",
          "name": "stdout",
          "text": [
            "\n",
            "\n",
            "1. Añadir/modificar\n",
            "2. Buscar\n",
            "3. Borrar\n",
            "4. Listar\n",
            "5. Salir\n",
            "Dime opción:4\n",
            "\n",
            "\n",
            "1. Añadir/modificar\n",
            "2. Buscar\n",
            "3. Borrar\n",
            "4. Listar\n",
            "5. Salir\n",
            "Dime opción:5\n",
            "\n",
            " Adiós.\n"
          ]
        }
      ]
    },
    {
      "cell_type": "markdown",
      "source": [
        "9. Crear un script que al introducir una fecha nos diga a que día juliano corresponde. El día juliano correspondiente a una fecha es un número entero que indica los días que han transcurrido desde el 1 de enero.Para ello debes de hacer las siguientes funciones:\n",
        " * **LeerFecha**: Lee por teclado el día, mes y el año.\n",
        " * **DiasDelMes**: Recibe un mes y un año y devuelve el número de días\n",
        " * **EsBisiesto**: Recibido un año nos dice si es bisiesto o no.\n",
        " * **Calcular_Dia_Juliano**: Recibe una fecha y nos devuelve el día juliano."
      ],
      "metadata": {
        "id": "-PHluINDPCH5"
      }
    },
    {
      "cell_type": "code",
      "source": [
        "#función que lle la fecha\n",
        "def LeerFecha():\n",
        "  dia = int(input(\"Introduce el día: \"))\n",
        "  mes = int(input(\"Introduce el mes: \"))\n",
        "  año = int(input(\"Introduce el año: \"))\n",
        "  return dia, mes, año\n",
        "#comprobamos qué mes es\n",
        "def DiasDelMes(mes, año):\n",
        "  if mes in [1, 3, 5, 7, 8, 10, 12]:\n",
        "   return 31\n",
        "  elif mes in [4, 6, 9, 11]:\n",
        "   return 30\n",
        "  elif mes == 2:\n",
        "   if EsBisiesto(año):\n",
        "    return 29\n",
        "   else:\n",
        "    return 28\n",
        "#función para comprobar si es bisiesto\n",
        "def EsBisiesto(año):\n",
        "  if (año % 4 == 0 and año % 100 != 0) or (año % 400 == 0):\n",
        "   return True\n",
        "  else:\n",
        "   return False\n",
        "#calculo del dia juliano empezando desde 01-01-2025\n",
        "def Calcular_Dia_Juliano(dia, mes, año):\n",
        "  total_dias = dia\n",
        "  for m in range(1, mes):\n",
        "   total_dias += DiasDelMes(m, año)\n",
        "  return total_dias\n",
        "\n",
        "# Programa principal\n",
        "fecha = LeerFecha()\n",
        "dia_juliano = Calcular_Dia_Juliano(fecha[0], fecha[1], fecha[2])\n",
        "print(\"El día juliano correspondiente a la fecha es:\", dia_juliano)"
      ],
      "metadata": {
        "id": "EbNdAbeBEV5g"
      },
      "execution_count": null,
      "outputs": []
    },
    {
      "cell_type": "markdown",
      "source": [
        "\n",
        "10. Función CalcularMCD: Recibe dos números y devuelve el MCD utilizando el método de Euclides.\n",
        "El método de Euclides es el siguiente:\n",
        " * Se divide el número mayor entre el menor.\n",
        " * Si la división es exacta, el divisor es el MCD.\n",
        " * Si la división no es exacta, dividimos el divisor entre el resto obtenido y se continúa de esta forma hasta obtener una división exacta, siendo el último divisor el MCD.\n"
      ],
      "metadata": {
        "id": "xQCJ8l2QPU3m"
      }
    },
    {
      "cell_type": "code",
      "source": [
        "\n",
        "def Calcularmcd(a,b):\n",
        "    if a < 0:\n",
        "        return mcd(-a,b)\n",
        "    if b < 0:\n",
        "        return mcd(a,-b)\n",
        "    if b == 0:\n",
        "        return a #CASO BASE\n",
        "    return mcd(a, a%b)\n",
        "Calcularmcd(64,24)"
      ],
      "metadata": {
        "id": "KZWQBYhdEWow",
        "colab": {
          "base_uri": "https://localhost:8080/"
        },
        "outputId": "dc7a112d-170b-4276-873f-e1a9283fbf67"
      },
      "execution_count": null,
      "outputs": [
        {
          "output_type": "execute_result",
          "data": {
            "text/plain": [
              "64"
            ]
          },
          "metadata": {},
          "execution_count": 73
        }
      ]
    }
  ]
}